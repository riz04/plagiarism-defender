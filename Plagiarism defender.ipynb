{
 "cells": [
  {
   "cell_type": "code",
   "execution_count": 86,
   "metadata": {},
   "outputs": [],
   "source": [
    "# plagiarism defender\n",
    "# start with a very clear idea, what do you want\n",
    "# always write your complete idea on a piece of paper and alalyze what you are trying to do"
   ]
  },
  {
   "cell_type": "code",
   "execution_count": 87,
   "metadata": {},
   "outputs": [],
   "source": [
    "# Here we are gonna make a web app, where will write some content and sumbit\n",
    "# the content will be checked for plagiarism\n",
    "# i.e if its copied from somewhere \n",
    "# in short, create an application that can ingest writing samples and tell us if they are original or plagiarized\n"
   ]
  },
  {
   "cell_type": "code",
   "execution_count": 88,
   "metadata": {},
   "outputs": [],
   "source": [
    "# we will be using \n",
    "# time, to slowdown the process\n",
    "# requests, to handle many\n",
    "# urllib library, which is gonna help to send url and get processed results back from internet"
   ]
  },
  {
   "cell_type": "code",
   "execution_count": 89,
   "metadata": {},
   "outputs": [],
   "source": [
    "import requests , time\n",
    "from nltk.tokenize.punkt import PunktSentenceTokenizer, PunktParameters\n",
    "import urllib\n",
    "from urllib.parse import quote"
   ]
  },
  {
   "cell_type": "code",
   "execution_count": 90,
   "metadata": {},
   "outputs": [],
   "source": [
    "text_to_check = \"Call me Ishmael. Some years ago - never mind how long precisely having little or no money in my purse,and nothing particular to interest me on shore\""
   ]
  },
  {
   "cell_type": "code",
   "execution_count": 91,
   "metadata": {},
   "outputs": [
    {
     "data": {
      "text/plain": [
       "'Call me Ishmael. Some years ago - never mind how long precisely having little or no money in my purse,and nothing particular to interest me on shore'"
      ]
     },
     "execution_count": 91,
     "metadata": {},
     "output_type": "execute_result"
    }
   ],
   "source": [
    "text_to_check"
   ]
  },
  {
   "cell_type": "code",
   "execution_count": 99,
   "metadata": {},
   "outputs": [
    {
     "data": {
      "text/plain": [
       "['Call me Ishmael.',\n",
       " 'Some years ago - never mind how long precisely having little or no money in my purse,and nothing particular to interest me on shore']"
      ]
     },
     "execution_count": 99,
     "metadata": {},
     "output_type": "execute_result"
    }
   ],
   "source": [
    "# calling NLTK library to split the text into sentences\n",
    "# we will have two sentence to work with\n",
    "# and we get a list in the output\n",
    "\n",
    "punkt_param = PunktParameters()\n",
    "sentence_splitter = PunktSentenceTokenizer(punkt_param)\n",
    "sentences = sentence_splitter.tokenize(text_to_check)\n",
    "probability_of_plagiarism = 0\n",
    "sentences"
   ]
  },
  {
   "cell_type": "code",
   "execution_count": 100,
   "metadata": {},
   "outputs": [
    {
     "name": "stdout",
     "output_type": "stream",
     "text": [
      "Probability of plagiarism:50.0%\n"
     ]
    }
   ],
   "source": [
    "for a_sentence in sentences:\n",
    "    \n",
    "    # we are gonna take each sentence and drop it into search engine\n",
    "    # and see, if search engine recognizes this sentence for plagiarism\n",
    "    # providing a time, so that search engine doesn't get angry, as we are pinging too fast\n",
    "    time.sleep(0.3)\n",
    "    \n",
    "    # here we are creating internet ready format of sentence\n",
    "    # beacuse internet doesn't like spaces, hence we replace each space with special characters\n",
    "    # e.g  +\"Call me Ishmael.\"\n",
    "    # all sentences will look like this, (internet friendly, easy to search)\n",
    "    the_term = urllib.parse.quote(\"+\" + '\"' + a_sentence + '\"')\n",
    "    \n",
    "    # we add the_term to bing with searching question mark q\n",
    "    # we are making a request to get something from internet\n",
    "    page = requests.get('https://www.bing.com/search?q='+the_term)\n",
    "    \n",
    "    # looking in the page text\n",
    "    # if nothing found, bing returns the string \"There are no results for\"\n",
    "    # hence, when we don get that, prob of plagiarism increases\n",
    "    if (not \"There are no results for\" in page.text):\n",
    "        probability_of_plagiarism += 1;\n",
    " \n",
    "\n",
    "\n",
    "print(\"Probability of plagiarism:\" + str((probability_of_plagiarism / len(sentences)) * 100) + \"%\")"
   ]
  },
  {
   "cell_type": "code",
   "execution_count": null,
   "metadata": {},
   "outputs": [],
   "source": []
  },
  {
   "cell_type": "code",
   "execution_count": null,
   "metadata": {},
   "outputs": [],
   "source": []
  },
  {
   "cell_type": "code",
   "execution_count": null,
   "metadata": {},
   "outputs": [],
   "source": []
  },
  {
   "cell_type": "code",
   "execution_count": null,
   "metadata": {},
   "outputs": [],
   "source": []
  },
  {
   "cell_type": "code",
   "execution_count": null,
   "metadata": {},
   "outputs": [],
   "source": []
  }
 ],
 "metadata": {
  "kernelspec": {
   "display_name": "Python 3",
   "language": "python",
   "name": "python3"
  },
  "language_info": {
   "codemirror_mode": {
    "name": "ipython",
    "version": 3
   },
   "file_extension": ".py",
   "mimetype": "text/x-python",
   "name": "python",
   "nbconvert_exporter": "python",
   "pygments_lexer": "ipython3",
   "version": "3.7.1"
  }
 },
 "nbformat": 4,
 "nbformat_minor": 2
}
